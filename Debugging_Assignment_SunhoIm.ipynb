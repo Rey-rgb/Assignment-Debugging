{
 "cells": [
  {
   "cell_type": "code",
   "execution_count": 20,
   "id": "831f327b-4471-4130-94dc-b37c471551f9",
   "metadata": {},
   "outputs": [
    {
     "name": "stdout",
     "output_type": "stream",
     "text": [
      "we are making an error in the loop because sum([arg1[arg1_index]+i for i in arg2]) summs every element in [2, 2, 2], this results in arg_2_sum: 6\n",
      "we are making an error in the loop because sum([arg1[arg1_index]+i for i in arg2]) summs every element in [3, 3, 3], this results in arg_2_sum: 9\n",
      "we are making an error in the loop because sum([arg1[arg1_index]+i for i in arg2]) summs every element in [4, 4, 4], this results in arg_2_sum: 12\n",
      "The correct answer is supposed to be: [2, 3, 4]\n"
     ]
    }
   ],
   "source": [
    "\"\"\"1.a\n",
    "Using the print() function only, get the wrong_add_function to print out where\n",
    "it is making a mistake, given the expected output for ex, \"we are making an error \n",
    "in the loop\", which you would put near the loop. \n",
    "Structure the print() statement to show what the expected output ought to be\n",
    "via f-strings: ie \"The correct answer is supposed to be: [...]\"\"\"\n",
    "\n",
    "def wrong_add_function(arg1, arg2):\n",
    "    arg1_index=0\n",
    "    while arg1_index < len(arg1):\n",
    "        arg_2_sum = 0\n",
    "        for arg2_elements in arg2:\n",
    "            arg_2_sum = sum([arg1[arg1_index]+i for i in arg2]) #this is where error is made\n",
    "            print(f'we are making an error in the loop as sum([arg1[arg1_index]+i for i in arg2]) summs every element in {[arg1[arg1_index]+i for i in arg2]}, this results in arg_2_sum: {arg_2_sum}')\n",
    "            arg1[arg1_index]= arg_2_sum  \n",
    "            arg1_index+=1\n",
    "            \n",
    "    return arg1\n",
    "\n",
    "arg1 = [1,2,3]\n",
    "arg2 = [1,1,1]\n",
    "wrong_add_function(arg1, arg2)\n",
    "    \n",
    "print(f'The correct answer is supposed to be: {[2,3,4]}')"
   ]
  },
  {
   "cell_type": "code",
   "execution_count": 301,
   "id": "2b1b0fb2-9245-4d61-bc49-57a5c5ba8c7c",
   "metadata": {},
   "outputs": [
    {
     "name": "stdout",
     "output_type": "stream",
     "text": [
      "1 1 2\n",
      "2 1 3\n",
      "3 1 4\n"
     ]
    },
    {
     "data": {
      "text/plain": [
       "[2, 3, 4]"
      ]
     },
     "execution_count": 301,
     "metadata": {},
     "output_type": "execute_result"
    }
   ],
   "source": [
    "\"\"\"\n",
    "1.b\n",
    "Then, changing as little as possible, modify the function, using the same \n",
    "general structure to output the correct answer. Call this new function \n",
    "correct_add_function() \n",
    "# \"\"\"\n",
    "\n",
    "def correct_add_function(arg1, arg2):\n",
    "    arg1_index=0\n",
    "    while arg1_index < len(arg1):\n",
    "        # arg_2_sum = 0\n",
    "        # for arg2_elements in arg2:  #don't need this two lines of code to add each element\n",
    "        arg_2_sum = arg1[arg1_index]+arg2[arg1_index] #adding each element with same index number\n",
    "        print(arg1[arg1_index], arg2[arg1_index],arg_2_sum )\n",
    "        arg1[arg1_index]= arg_2_sum  \n",
    "        arg1_index+=1  \n",
    "    return arg1\n",
    "\n",
    "arg1 = [1,2,3]\n",
    "arg2 = [1,1,1]\n",
    "correct_add_function(arg1, arg2)"
   ]
  },
  {
   "cell_type": "code",
   "execution_count": 1,
   "id": "2e170404-a331-42ce-88a4-485234344bbd",
   "metadata": {},
   "outputs": [
    {
     "data": {
      "text/plain": [
       "[4, 5, 6]"
      ]
     },
     "execution_count": 1,
     "metadata": {},
     "output_type": "execute_result"
    }
   ],
   "source": [
    "\"\"\"\n",
    "2.a\n",
    "Update the numeric section of the function with your changes from 1 for both \n",
    "2.b and 2.c\n",
    "\"\"\"\n",
    "def wrong_add_function(arg1,arg2):\n",
    "    #numeric section\n",
    "    if sum([type(i)==int for i in arg1])==len(arg1) and sum([type(i)==int for i in arg2])==len(arg2):\n",
    "        arg1_index=0\n",
    "        while arg1_index < len(arg1):\n",
    "            arg_2_sum = 0\n",
    "            for arg2_elements in arg2:\n",
    "                arg_2_sum = arg1[arg1_index]+sum([i for i in arg2]) #[1+(1+1+1), 2+(1+1+1), 3+(1+1+1)]\n",
    "            arg1[arg1_index]= arg_2_sum  \n",
    "            arg1_index+=1  \n",
    "        return arg1\n",
    "        \n",
    "    #string section\n",
    "    elif sum([type(i)==str for i in arg1])==len(arg1) and sum([type(i)==str for i in arg2])==len(arg2):\n",
    "        arg1_index=0\n",
    "        while arg1_index < len(arg1):\n",
    "            arg_2_sum = ''\n",
    "            for arg2_elements in arg2:\n",
    "               arg_2_sum += arg2_elements\n",
    "            arg1[arg1_index]=arg1[arg1_index]+str(arg_2_sum)\n",
    "            arg1_index+=1\n",
    "        return arg1\n",
    "        \n",
    "    else:#added this statement for 2.c\n",
    "        raise TypeError\n",
    "\n",
    "# arg_str_1=[1,2,3]\n",
    "# arg_str_2=[1,1, 1]\n",
    "\n",
    "arg_str_1=['1','2','3']\n",
    "arg_str_2=['1','1', 1]\n",
    "\n",
    "wrong_add_function(arg_str_1,arg_str_2)"
   ]
  },
  {
   "cell_type": "code",
   "execution_count": 3,
   "id": "6fb81fa0-f4ac-4f5c-9b76-7d4c236afd0b",
   "metadata": {},
   "outputs": [
    {
     "name": "stdout",
     "output_type": "stream",
     "text": [
      "Your input argument 2 is not of the expected type. Please change this and rerun.\n"
     ]
    }
   ],
   "source": [
    "\"\"\"\n",
    "2.b\n",
    "Without modifying the string section code itself or the input directly, \n",
    "write a try, except block that catches the issue with the input below and \n",
    "returns an error message to the user, in case users give invalid inputs,\n",
    "(for example an input of [\"5\",\"2\", 5])\n",
    ": \"Your input argument [1 or 2] at element [n]\n",
    "is not of the expected type. \n",
    "Please change this and rerun. Name this function exception_add_function()\n",
    "\"\"\"\n",
    "def exception_add_function(arg1, arg2):\n",
    "    try:\n",
    "        #numeric section\n",
    "        if sum([type(i)==int for i in arg1])==len(arg1) and sum([type(i)==int for i in arg2])==len(arg2):\n",
    "            arg1_index=0\n",
    "            while arg1_index < len(arg1):\n",
    "                arg_2_sum = 0\n",
    "                for arg2_elements in arg2:\n",
    "                    arg_2_sum = arg1[arg1_index]+sum([i for i in arg2])\n",
    "                arg1[arg1_index]= arg_2_sum  \n",
    "                arg1_index+=1  \n",
    "            return arg1\n",
    "        \n",
    "        #string section\n",
    "        elif sum([type(i)==str for i in arg1])==len(arg1) and sum([type(i)==str for i in arg2])==len(arg2):\n",
    "            arg1_index=0\n",
    "            while arg1_index < len(arg1):\n",
    "                arg_2_sum = ''\n",
    "                for arg2_elements in arg2:\n",
    "                   arg_2_sum += arg2_elements\n",
    "                arg1[arg1_index]=arg1[arg1_index]+str(arg_2_sum)\n",
    "                arg1_index+=1\n",
    "            return arg1\n",
    "            \n",
    "        else:\n",
    "             raise TypeError\n",
    "\n",
    "    except TypeError:\n",
    "        if (sum([type(i)==int for i in arg1])==len(arg1) or sum([type(i)==str for i in arg1])==len(arg1)):\n",
    "            print(\"Your input argument 2 is not of the expected type. Please change this and rerun.\")\n",
    "        elif (sum([type(i)==int for i in arg2])==len(arg2) or sum([type(i)==str for i in arg2])==len(arg2)):\n",
    "            print(\"Your input argument 1 is not of the expected type. Please change this and rerun.\")\n",
    "        # Could not identify to the the element level\n",
    "\n",
    "arg_str_1=['1','2','3']\n",
    "arg_str_2=['1','1', 1]\n",
    "\n",
    "exception_add_function(arg_str_1,arg_str_2)"
   ]
  },
  {
   "cell_type": "code",
   "execution_count": 5,
   "id": "ce3ab990-43c0-402a-af12-ac2fe3dded11",
   "metadata": {},
   "outputs": [
    {
     "name": "stdout",
     "output_type": "stream",
     "text": [
      "['1111', '2111', '3111']\n"
     ]
    }
   ],
   "source": [
    "\"\"\"\n",
    "2.c\n",
    "Without modifying the string section code itself or the input directly, \n",
    "write a try, except block that catches the issue with the input below and \n",
    "gets it to process via the string section. IE, do not, outside the function,\n",
    "change the values of arg_str_1 or arg_str_2. Name this function \n",
    "correction_add_function(), i.e you will not be updating the wrong_add_function,\n",
    "you will simply handle the error of wrong inputs in a seperate function, you want\n",
    "the wrong_add_function to output its current result you are only bolstering the \n",
    "function for edge cases.\n",
    "\"\"\"\n",
    "\n",
    "def correction_add_function(arg1, arg2):\n",
    "    try:\n",
    "        return wrong_add_function(arg1, arg2)\n",
    "    except TypeError:   # Changes every element into a string\n",
    "        arg1_str = [str(i) for i in arg1]\n",
    "        arg2_str = [str(i) for i in arg2]\n",
    "        \n",
    "        return wrong_add_function(arg1_str, arg2_str) # Put again into input\n",
    "\n",
    "arg_str_1=['1','2','3']\n",
    "arg_str_2=['1','1', 1]\n",
    "\n",
    "print(correction_add_function(arg_str_1,arg_str_2))"
   ]
  }
 ],
 "metadata": {
  "kernelspec": {
   "display_name": "Python 3 (ipykernel)",
   "language": "python",
   "name": "python3"
  },
  "language_info": {
   "codemirror_mode": {
    "name": "ipython",
    "version": 3
   },
   "file_extension": ".py",
   "mimetype": "text/x-python",
   "name": "python",
   "nbconvert_exporter": "python",
   "pygments_lexer": "ipython3",
   "version": "3.12.4"
  }
 },
 "nbformat": 4,
 "nbformat_minor": 5
}
